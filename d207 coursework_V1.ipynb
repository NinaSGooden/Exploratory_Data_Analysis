{
 "cells": [
  {
   "cell_type": "code",
   "execution_count": 1,
   "metadata": {},
   "outputs": [],
   "source": [
    "import matplotlib.pyplot as plt\n",
    "import pandas as pd\n",
    "import numpy as np\n",
    "import seaborn as sns\n",
    "from scipy.stats import ttest_ind"
   ]
  },
  {
   "cell_type": "code",
   "execution_count": 2,
   "metadata": {},
   "outputs": [],
   "source": [
    "pd.set_option('display.max_columns', None)\n",
    "df = pd.read_csv('C:/Users/nsgoo/OneDrive/Documents/School/WGU/d207_exploratory_data_analysis/New folder/Medical/medical_clean.csv')"
   ]
  },
  {
   "cell_type": "code",
   "execution_count": 3,
   "metadata": {},
   "outputs": [],
   "source": [
    "df['ReAdmis'].replace(('Yes', 'No'), (1, 0), inplace = True)"
   ]
  },
  {
   "cell_type": "code",
   "execution_count": 4,
   "metadata": {},
   "outputs": [],
   "source": [
    "df['Soft_drink'].replace(('Yes', 'No'), (1, 0), inplace = True)"
   ]
  },
  {
   "cell_type": "code",
   "execution_count": 5,
   "metadata": {},
   "outputs": [],
   "source": [
    "df['HighBlood'].replace(('Yes', 'No'), (1, 0), inplace = True)\n",
    "df['Stroke'].replace(('Yes', 'No'), (1, 0), inplace = True)\n",
    "df['Complication_risk'].replace(('High', 'Medium', 'Low'), (3, 2, 1), inplace = True)\n",
    "df['Overweight'].replace(('Yes', 'No'), (1, 0), inplace = True)\n",
    "df['Arthritis'].replace(('Yes', 'No'), (1, 0), inplace = True)\n",
    "df['Diabetes'].replace(('Yes', 'No'), (1, 0), inplace = True)\n",
    "df['Hyperlipidemia'].replace(('Yes', 'No'), (1, 0), inplace = True)\n",
    "df['BackPain'].replace(('Yes', 'No'), (1, 0), inplace = True)\n",
    "df['Anxiety'].replace(('Yes', 'No'), (1, 0), inplace = True)\n",
    "df['Allergic_rhinitis'].replace(('Yes', 'No'), (1, 0), inplace = True)\n",
    "df['Reflux_esophagitis'].replace(('Yes', 'No'), (1, 0), inplace = True)\n",
    "df['Asthma'].replace(('Yes', 'No'), (1, 0), inplace = True)"
   ]
  },
  {
   "cell_type": "code",
   "execution_count": 6,
   "metadata": {},
   "outputs": [
    {
     "name": "stderr",
     "output_type": "stream",
     "text": [
      "C:\\Users\\nsgoo\\AppData\\Local\\Temp\\ipykernel_25696\\2687034470.py:1: UserWarning: Pandas doesn't allow columns to be created via a new attribute name - see https://pandas.pydata.org/pandas-docs/stable/indexing.html#attribute-access\n",
      "  df.cormat = df[['ReAdmis', 'Soft_drink', 'HighBlood', 'Stroke', 'Complication_risk', 'Overweight', 'Arthritis', 'Diabetes', 'Hyperlipidemia', 'BackPain', 'Anxiety', 'Allergic_rhinitis', 'Reflux_esophagitis', 'Asthma', 'Age', 'VitD_levels', 'Doc_visits', 'Initial_days']]\n"
     ]
    },
    {
     "data": {
      "text/html": [
       "<div>\n",
       "<style scoped>\n",
       "    .dataframe tbody tr th:only-of-type {\n",
       "        vertical-align: middle;\n",
       "    }\n",
       "\n",
       "    .dataframe tbody tr th {\n",
       "        vertical-align: top;\n",
       "    }\n",
       "\n",
       "    .dataframe thead th {\n",
       "        text-align: right;\n",
       "    }\n",
       "</style>\n",
       "<table border=\"1\" class=\"dataframe\">\n",
       "  <thead>\n",
       "    <tr style=\"text-align: right;\">\n",
       "      <th></th>\n",
       "      <th>ReAdmis</th>\n",
       "      <th>Soft_drink</th>\n",
       "      <th>HighBlood</th>\n",
       "      <th>Stroke</th>\n",
       "      <th>Complication_risk</th>\n",
       "      <th>Overweight</th>\n",
       "      <th>Arthritis</th>\n",
       "      <th>Diabetes</th>\n",
       "      <th>Hyperlipidemia</th>\n",
       "      <th>BackPain</th>\n",
       "      <th>Anxiety</th>\n",
       "      <th>Allergic_rhinitis</th>\n",
       "      <th>Reflux_esophagitis</th>\n",
       "      <th>Asthma</th>\n",
       "      <th>Age</th>\n",
       "      <th>VitD_levels</th>\n",
       "      <th>Doc_visits</th>\n",
       "      <th>Initial_days</th>\n",
       "    </tr>\n",
       "  </thead>\n",
       "  <tbody>\n",
       "    <tr>\n",
       "      <th>ReAdmis</th>\n",
       "      <td>1.000000</td>\n",
       "      <td>0.007703</td>\n",
       "      <td>0.002270</td>\n",
       "      <td>0.000918</td>\n",
       "      <td>-0.003236</td>\n",
       "      <td>-0.008586</td>\n",
       "      <td>0.007663</td>\n",
       "      <td>-0.003058</td>\n",
       "      <td>0.004307</td>\n",
       "      <td>0.013313</td>\n",
       "      <td>0.002406</td>\n",
       "      <td>-0.004651</td>\n",
       "      <td>0.005422</td>\n",
       "      <td>-0.017133</td>\n",
       "      <td>0.015810</td>\n",
       "      <td>0.004083</td>\n",
       "      <td>0.000246</td>\n",
       "      <td>0.850862</td>\n",
       "    </tr>\n",
       "    <tr>\n",
       "      <th>Soft_drink</th>\n",
       "      <td>0.007703</td>\n",
       "      <td>1.000000</td>\n",
       "      <td>-0.006129</td>\n",
       "      <td>0.001604</td>\n",
       "      <td>0.001410</td>\n",
       "      <td>-0.004888</td>\n",
       "      <td>-0.007304</td>\n",
       "      <td>0.016907</td>\n",
       "      <td>0.016791</td>\n",
       "      <td>0.017496</td>\n",
       "      <td>0.016226</td>\n",
       "      <td>-0.015354</td>\n",
       "      <td>-0.002676</td>\n",
       "      <td>0.010114</td>\n",
       "      <td>-0.001337</td>\n",
       "      <td>0.004172</td>\n",
       "      <td>0.011282</td>\n",
       "      <td>0.002432</td>\n",
       "    </tr>\n",
       "    <tr>\n",
       "      <th>HighBlood</th>\n",
       "      <td>0.002270</td>\n",
       "      <td>-0.006129</td>\n",
       "      <td>1.000000</td>\n",
       "      <td>0.007568</td>\n",
       "      <td>0.021368</td>\n",
       "      <td>0.026231</td>\n",
       "      <td>0.007314</td>\n",
       "      <td>-0.005858</td>\n",
       "      <td>-0.009529</td>\n",
       "      <td>0.003048</td>\n",
       "      <td>0.008303</td>\n",
       "      <td>0.011709</td>\n",
       "      <td>0.001150</td>\n",
       "      <td>0.006174</td>\n",
       "      <td>0.007147</td>\n",
       "      <td>0.005660</td>\n",
       "      <td>0.008967</td>\n",
       "      <td>-0.006333</td>\n",
       "    </tr>\n",
       "    <tr>\n",
       "      <th>Stroke</th>\n",
       "      <td>0.000918</td>\n",
       "      <td>0.001604</td>\n",
       "      <td>0.007568</td>\n",
       "      <td>1.000000</td>\n",
       "      <td>0.001119</td>\n",
       "      <td>-0.001011</td>\n",
       "      <td>-0.018438</td>\n",
       "      <td>0.005792</td>\n",
       "      <td>-0.014847</td>\n",
       "      <td>0.003602</td>\n",
       "      <td>-0.013801</td>\n",
       "      <td>-0.004837</td>\n",
       "      <td>-0.000054</td>\n",
       "      <td>0.002443</td>\n",
       "      <td>0.012035</td>\n",
       "      <td>0.006721</td>\n",
       "      <td>-0.002230</td>\n",
       "      <td>-0.002043</td>\n",
       "    </tr>\n",
       "    <tr>\n",
       "      <th>Complication_risk</th>\n",
       "      <td>-0.003236</td>\n",
       "      <td>0.001410</td>\n",
       "      <td>0.021368</td>\n",
       "      <td>0.001119</td>\n",
       "      <td>1.000000</td>\n",
       "      <td>-0.001716</td>\n",
       "      <td>-0.015054</td>\n",
       "      <td>-0.006633</td>\n",
       "      <td>-0.000802</td>\n",
       "      <td>-0.015379</td>\n",
       "      <td>-0.000707</td>\n",
       "      <td>-0.002782</td>\n",
       "      <td>0.003102</td>\n",
       "      <td>-0.008973</td>\n",
       "      <td>0.002887</td>\n",
       "      <td>0.003787</td>\n",
       "      <td>0.012306</td>\n",
       "      <td>-0.014294</td>\n",
       "    </tr>\n",
       "    <tr>\n",
       "      <th>Overweight</th>\n",
       "      <td>-0.008586</td>\n",
       "      <td>-0.004888</td>\n",
       "      <td>0.026231</td>\n",
       "      <td>-0.001011</td>\n",
       "      <td>-0.001716</td>\n",
       "      <td>1.000000</td>\n",
       "      <td>0.003954</td>\n",
       "      <td>-0.007575</td>\n",
       "      <td>-0.006102</td>\n",
       "      <td>0.010083</td>\n",
       "      <td>-0.011186</td>\n",
       "      <td>0.002819</td>\n",
       "      <td>-0.012240</td>\n",
       "      <td>0.013943</td>\n",
       "      <td>-0.008292</td>\n",
       "      <td>0.009689</td>\n",
       "      <td>0.011890</td>\n",
       "      <td>-0.011077</td>\n",
       "    </tr>\n",
       "    <tr>\n",
       "      <th>Arthritis</th>\n",
       "      <td>0.007663</td>\n",
       "      <td>-0.007304</td>\n",
       "      <td>0.007314</td>\n",
       "      <td>-0.018438</td>\n",
       "      <td>-0.015054</td>\n",
       "      <td>0.003954</td>\n",
       "      <td>1.000000</td>\n",
       "      <td>0.009097</td>\n",
       "      <td>-0.007130</td>\n",
       "      <td>-0.018804</td>\n",
       "      <td>0.012045</td>\n",
       "      <td>0.008748</td>\n",
       "      <td>0.014894</td>\n",
       "      <td>-0.006423</td>\n",
       "      <td>0.007110</td>\n",
       "      <td>0.000075</td>\n",
       "      <td>-0.000719</td>\n",
       "      <td>0.018907</td>\n",
       "    </tr>\n",
       "    <tr>\n",
       "      <th>Diabetes</th>\n",
       "      <td>-0.003058</td>\n",
       "      <td>0.016907</td>\n",
       "      <td>-0.005858</td>\n",
       "      <td>0.005792</td>\n",
       "      <td>-0.006633</td>\n",
       "      <td>-0.007575</td>\n",
       "      <td>0.009097</td>\n",
       "      <td>1.000000</td>\n",
       "      <td>0.011739</td>\n",
       "      <td>-0.013405</td>\n",
       "      <td>-0.002529</td>\n",
       "      <td>0.005486</td>\n",
       "      <td>-0.007816</td>\n",
       "      <td>0.016765</td>\n",
       "      <td>0.003694</td>\n",
       "      <td>-0.025834</td>\n",
       "      <td>0.012781</td>\n",
       "      <td>-0.002411</td>\n",
       "    </tr>\n",
       "    <tr>\n",
       "      <th>Hyperlipidemia</th>\n",
       "      <td>0.004307</td>\n",
       "      <td>0.016791</td>\n",
       "      <td>-0.009529</td>\n",
       "      <td>-0.014847</td>\n",
       "      <td>-0.000802</td>\n",
       "      <td>-0.006102</td>\n",
       "      <td>-0.007130</td>\n",
       "      <td>0.011739</td>\n",
       "      <td>1.000000</td>\n",
       "      <td>-0.000963</td>\n",
       "      <td>-0.013178</td>\n",
       "      <td>-0.009049</td>\n",
       "      <td>0.001580</td>\n",
       "      <td>-0.009106</td>\n",
       "      <td>0.003736</td>\n",
       "      <td>-0.011870</td>\n",
       "      <td>-0.026730</td>\n",
       "      <td>-0.003974</td>\n",
       "    </tr>\n",
       "    <tr>\n",
       "      <th>BackPain</th>\n",
       "      <td>0.013313</td>\n",
       "      <td>0.017496</td>\n",
       "      <td>0.003048</td>\n",
       "      <td>0.003602</td>\n",
       "      <td>-0.015379</td>\n",
       "      <td>0.010083</td>\n",
       "      <td>-0.018804</td>\n",
       "      <td>-0.013405</td>\n",
       "      <td>-0.000963</td>\n",
       "      <td>1.000000</td>\n",
       "      <td>0.009289</td>\n",
       "      <td>0.004023</td>\n",
       "      <td>0.016036</td>\n",
       "      <td>0.014261</td>\n",
       "      <td>0.021081</td>\n",
       "      <td>-0.009080</td>\n",
       "      <td>0.008514</td>\n",
       "      <td>0.017344</td>\n",
       "    </tr>\n",
       "    <tr>\n",
       "      <th>Anxiety</th>\n",
       "      <td>0.002406</td>\n",
       "      <td>0.016226</td>\n",
       "      <td>0.008303</td>\n",
       "      <td>-0.013801</td>\n",
       "      <td>-0.000707</td>\n",
       "      <td>-0.011186</td>\n",
       "      <td>0.012045</td>\n",
       "      <td>-0.002529</td>\n",
       "      <td>-0.013178</td>\n",
       "      <td>0.009289</td>\n",
       "      <td>1.000000</td>\n",
       "      <td>0.004368</td>\n",
       "      <td>-0.007566</td>\n",
       "      <td>0.011758</td>\n",
       "      <td>0.006130</td>\n",
       "      <td>0.007875</td>\n",
       "      <td>-0.001684</td>\n",
       "      <td>0.011908</td>\n",
       "    </tr>\n",
       "    <tr>\n",
       "      <th>Allergic_rhinitis</th>\n",
       "      <td>-0.004651</td>\n",
       "      <td>-0.015354</td>\n",
       "      <td>0.011709</td>\n",
       "      <td>-0.004837</td>\n",
       "      <td>-0.002782</td>\n",
       "      <td>0.002819</td>\n",
       "      <td>0.008748</td>\n",
       "      <td>0.005486</td>\n",
       "      <td>-0.009049</td>\n",
       "      <td>0.004023</td>\n",
       "      <td>0.004368</td>\n",
       "      <td>1.000000</td>\n",
       "      <td>-0.007731</td>\n",
       "      <td>0.004454</td>\n",
       "      <td>0.012092</td>\n",
       "      <td>-0.005035</td>\n",
       "      <td>0.002920</td>\n",
       "      <td>0.003635</td>\n",
       "    </tr>\n",
       "    <tr>\n",
       "      <th>Reflux_esophagitis</th>\n",
       "      <td>0.005422</td>\n",
       "      <td>-0.002676</td>\n",
       "      <td>0.001150</td>\n",
       "      <td>-0.000054</td>\n",
       "      <td>0.003102</td>\n",
       "      <td>-0.012240</td>\n",
       "      <td>0.014894</td>\n",
       "      <td>-0.007816</td>\n",
       "      <td>0.001580</td>\n",
       "      <td>0.016036</td>\n",
       "      <td>-0.007566</td>\n",
       "      <td>-0.007731</td>\n",
       "      <td>1.000000</td>\n",
       "      <td>-0.001458</td>\n",
       "      <td>-0.019609</td>\n",
       "      <td>-0.014419</td>\n",
       "      <td>-0.005330</td>\n",
       "      <td>0.012237</td>\n",
       "    </tr>\n",
       "    <tr>\n",
       "      <th>Asthma</th>\n",
       "      <td>-0.017133</td>\n",
       "      <td>0.010114</td>\n",
       "      <td>0.006174</td>\n",
       "      <td>0.002443</td>\n",
       "      <td>-0.008973</td>\n",
       "      <td>0.013943</td>\n",
       "      <td>-0.006423</td>\n",
       "      <td>0.016765</td>\n",
       "      <td>-0.009106</td>\n",
       "      <td>0.014261</td>\n",
       "      <td>0.011758</td>\n",
       "      <td>0.004454</td>\n",
       "      <td>-0.001458</td>\n",
       "      <td>1.000000</td>\n",
       "      <td>0.009229</td>\n",
       "      <td>0.004937</td>\n",
       "      <td>-0.017989</td>\n",
       "      <td>-0.013496</td>\n",
       "    </tr>\n",
       "    <tr>\n",
       "      <th>Age</th>\n",
       "      <td>0.015810</td>\n",
       "      <td>-0.001337</td>\n",
       "      <td>0.007147</td>\n",
       "      <td>0.012035</td>\n",
       "      <td>0.002887</td>\n",
       "      <td>-0.008292</td>\n",
       "      <td>0.007110</td>\n",
       "      <td>0.003694</td>\n",
       "      <td>0.003736</td>\n",
       "      <td>0.021081</td>\n",
       "      <td>0.006130</td>\n",
       "      <td>0.012092</td>\n",
       "      <td>-0.019609</td>\n",
       "      <td>0.009229</td>\n",
       "      <td>1.000000</td>\n",
       "      <td>0.010315</td>\n",
       "      <td>0.006898</td>\n",
       "      <td>0.016264</td>\n",
       "    </tr>\n",
       "    <tr>\n",
       "      <th>VitD_levels</th>\n",
       "      <td>0.004083</td>\n",
       "      <td>0.004172</td>\n",
       "      <td>0.005660</td>\n",
       "      <td>0.006721</td>\n",
       "      <td>0.003787</td>\n",
       "      <td>0.009689</td>\n",
       "      <td>0.000075</td>\n",
       "      <td>-0.025834</td>\n",
       "      <td>-0.011870</td>\n",
       "      <td>-0.009080</td>\n",
       "      <td>0.007875</td>\n",
       "      <td>-0.005035</td>\n",
       "      <td>-0.014419</td>\n",
       "      <td>0.004937</td>\n",
       "      <td>0.010315</td>\n",
       "      <td>1.000000</td>\n",
       "      <td>0.010210</td>\n",
       "      <td>-0.003642</td>\n",
       "    </tr>\n",
       "    <tr>\n",
       "      <th>Doc_visits</th>\n",
       "      <td>0.000246</td>\n",
       "      <td>0.011282</td>\n",
       "      <td>0.008967</td>\n",
       "      <td>-0.002230</td>\n",
       "      <td>0.012306</td>\n",
       "      <td>0.011890</td>\n",
       "      <td>-0.000719</td>\n",
       "      <td>0.012781</td>\n",
       "      <td>-0.026730</td>\n",
       "      <td>0.008514</td>\n",
       "      <td>-0.001684</td>\n",
       "      <td>0.002920</td>\n",
       "      <td>-0.005330</td>\n",
       "      <td>-0.017989</td>\n",
       "      <td>0.006898</td>\n",
       "      <td>0.010210</td>\n",
       "      <td>1.000000</td>\n",
       "      <td>-0.006754</td>\n",
       "    </tr>\n",
       "    <tr>\n",
       "      <th>Initial_days</th>\n",
       "      <td>0.850862</td>\n",
       "      <td>0.002432</td>\n",
       "      <td>-0.006333</td>\n",
       "      <td>-0.002043</td>\n",
       "      <td>-0.014294</td>\n",
       "      <td>-0.011077</td>\n",
       "      <td>0.018907</td>\n",
       "      <td>-0.002411</td>\n",
       "      <td>-0.003974</td>\n",
       "      <td>0.017344</td>\n",
       "      <td>0.011908</td>\n",
       "      <td>0.003635</td>\n",
       "      <td>0.012237</td>\n",
       "      <td>-0.013496</td>\n",
       "      <td>0.016264</td>\n",
       "      <td>-0.003642</td>\n",
       "      <td>-0.006754</td>\n",
       "      <td>1.000000</td>\n",
       "    </tr>\n",
       "  </tbody>\n",
       "</table>\n",
       "</div>"
      ],
      "text/plain": [
       "                     ReAdmis  Soft_drink  HighBlood    Stroke  \\\n",
       "ReAdmis             1.000000    0.007703   0.002270  0.000918   \n",
       "Soft_drink          0.007703    1.000000  -0.006129  0.001604   \n",
       "HighBlood           0.002270   -0.006129   1.000000  0.007568   \n",
       "Stroke              0.000918    0.001604   0.007568  1.000000   \n",
       "Complication_risk  -0.003236    0.001410   0.021368  0.001119   \n",
       "Overweight         -0.008586   -0.004888   0.026231 -0.001011   \n",
       "Arthritis           0.007663   -0.007304   0.007314 -0.018438   \n",
       "Diabetes           -0.003058    0.016907  -0.005858  0.005792   \n",
       "Hyperlipidemia      0.004307    0.016791  -0.009529 -0.014847   \n",
       "BackPain            0.013313    0.017496   0.003048  0.003602   \n",
       "Anxiety             0.002406    0.016226   0.008303 -0.013801   \n",
       "Allergic_rhinitis  -0.004651   -0.015354   0.011709 -0.004837   \n",
       "Reflux_esophagitis  0.005422   -0.002676   0.001150 -0.000054   \n",
       "Asthma             -0.017133    0.010114   0.006174  0.002443   \n",
       "Age                 0.015810   -0.001337   0.007147  0.012035   \n",
       "VitD_levels         0.004083    0.004172   0.005660  0.006721   \n",
       "Doc_visits          0.000246    0.011282   0.008967 -0.002230   \n",
       "Initial_days        0.850862    0.002432  -0.006333 -0.002043   \n",
       "\n",
       "                    Complication_risk  Overweight  Arthritis  Diabetes  \\\n",
       "ReAdmis                     -0.003236   -0.008586   0.007663 -0.003058   \n",
       "Soft_drink                   0.001410   -0.004888  -0.007304  0.016907   \n",
       "HighBlood                    0.021368    0.026231   0.007314 -0.005858   \n",
       "Stroke                       0.001119   -0.001011  -0.018438  0.005792   \n",
       "Complication_risk            1.000000   -0.001716  -0.015054 -0.006633   \n",
       "Overweight                  -0.001716    1.000000   0.003954 -0.007575   \n",
       "Arthritis                   -0.015054    0.003954   1.000000  0.009097   \n",
       "Diabetes                    -0.006633   -0.007575   0.009097  1.000000   \n",
       "Hyperlipidemia              -0.000802   -0.006102  -0.007130  0.011739   \n",
       "BackPain                    -0.015379    0.010083  -0.018804 -0.013405   \n",
       "Anxiety                     -0.000707   -0.011186   0.012045 -0.002529   \n",
       "Allergic_rhinitis           -0.002782    0.002819   0.008748  0.005486   \n",
       "Reflux_esophagitis           0.003102   -0.012240   0.014894 -0.007816   \n",
       "Asthma                      -0.008973    0.013943  -0.006423  0.016765   \n",
       "Age                          0.002887   -0.008292   0.007110  0.003694   \n",
       "VitD_levels                  0.003787    0.009689   0.000075 -0.025834   \n",
       "Doc_visits                   0.012306    0.011890  -0.000719  0.012781   \n",
       "Initial_days                -0.014294   -0.011077   0.018907 -0.002411   \n",
       "\n",
       "                    Hyperlipidemia  BackPain   Anxiety  Allergic_rhinitis  \\\n",
       "ReAdmis                   0.004307  0.013313  0.002406          -0.004651   \n",
       "Soft_drink                0.016791  0.017496  0.016226          -0.015354   \n",
       "HighBlood                -0.009529  0.003048  0.008303           0.011709   \n",
       "Stroke                   -0.014847  0.003602 -0.013801          -0.004837   \n",
       "Complication_risk        -0.000802 -0.015379 -0.000707          -0.002782   \n",
       "Overweight               -0.006102  0.010083 -0.011186           0.002819   \n",
       "Arthritis                -0.007130 -0.018804  0.012045           0.008748   \n",
       "Diabetes                  0.011739 -0.013405 -0.002529           0.005486   \n",
       "Hyperlipidemia            1.000000 -0.000963 -0.013178          -0.009049   \n",
       "BackPain                 -0.000963  1.000000  0.009289           0.004023   \n",
       "Anxiety                  -0.013178  0.009289  1.000000           0.004368   \n",
       "Allergic_rhinitis        -0.009049  0.004023  0.004368           1.000000   \n",
       "Reflux_esophagitis        0.001580  0.016036 -0.007566          -0.007731   \n",
       "Asthma                   -0.009106  0.014261  0.011758           0.004454   \n",
       "Age                       0.003736  0.021081  0.006130           0.012092   \n",
       "VitD_levels              -0.011870 -0.009080  0.007875          -0.005035   \n",
       "Doc_visits               -0.026730  0.008514 -0.001684           0.002920   \n",
       "Initial_days             -0.003974  0.017344  0.011908           0.003635   \n",
       "\n",
       "                    Reflux_esophagitis    Asthma       Age  VitD_levels  \\\n",
       "ReAdmis                       0.005422 -0.017133  0.015810     0.004083   \n",
       "Soft_drink                   -0.002676  0.010114 -0.001337     0.004172   \n",
       "HighBlood                     0.001150  0.006174  0.007147     0.005660   \n",
       "Stroke                       -0.000054  0.002443  0.012035     0.006721   \n",
       "Complication_risk             0.003102 -0.008973  0.002887     0.003787   \n",
       "Overweight                   -0.012240  0.013943 -0.008292     0.009689   \n",
       "Arthritis                     0.014894 -0.006423  0.007110     0.000075   \n",
       "Diabetes                     -0.007816  0.016765  0.003694    -0.025834   \n",
       "Hyperlipidemia                0.001580 -0.009106  0.003736    -0.011870   \n",
       "BackPain                      0.016036  0.014261  0.021081    -0.009080   \n",
       "Anxiety                      -0.007566  0.011758  0.006130     0.007875   \n",
       "Allergic_rhinitis            -0.007731  0.004454  0.012092    -0.005035   \n",
       "Reflux_esophagitis            1.000000 -0.001458 -0.019609    -0.014419   \n",
       "Asthma                       -0.001458  1.000000  0.009229     0.004937   \n",
       "Age                          -0.019609  0.009229  1.000000     0.010315   \n",
       "VitD_levels                  -0.014419  0.004937  0.010315     1.000000   \n",
       "Doc_visits                   -0.005330 -0.017989  0.006898     0.010210   \n",
       "Initial_days                  0.012237 -0.013496  0.016264    -0.003642   \n",
       "\n",
       "                    Doc_visits  Initial_days  \n",
       "ReAdmis               0.000246      0.850862  \n",
       "Soft_drink            0.011282      0.002432  \n",
       "HighBlood             0.008967     -0.006333  \n",
       "Stroke               -0.002230     -0.002043  \n",
       "Complication_risk     0.012306     -0.014294  \n",
       "Overweight            0.011890     -0.011077  \n",
       "Arthritis            -0.000719      0.018907  \n",
       "Diabetes              0.012781     -0.002411  \n",
       "Hyperlipidemia       -0.026730     -0.003974  \n",
       "BackPain              0.008514      0.017344  \n",
       "Anxiety              -0.001684      0.011908  \n",
       "Allergic_rhinitis     0.002920      0.003635  \n",
       "Reflux_esophagitis   -0.005330      0.012237  \n",
       "Asthma               -0.017989     -0.013496  \n",
       "Age                   0.006898      0.016264  \n",
       "VitD_levels           0.010210     -0.003642  \n",
       "Doc_visits            1.000000     -0.006754  \n",
       "Initial_days         -0.006754      1.000000  "
      ]
     },
     "execution_count": 6,
     "metadata": {},
     "output_type": "execute_result"
    }
   ],
   "source": [
    "df.cormat = df[['ReAdmis', 'Soft_drink', 'HighBlood', 'Stroke', 'Complication_risk', 'Overweight', 'Arthritis', 'Diabetes', 'Hyperlipidemia', 'BackPain', 'Anxiety', 'Allergic_rhinitis', 'Reflux_esophagitis', 'Asthma', 'Age', 'VitD_levels', 'Doc_visits', 'Initial_days']]\n",
    "df.cormat.corr()"
   ]
  },
  {
   "cell_type": "code",
   "execution_count": 7,
   "metadata": {},
   "outputs": [
    {
     "name": "stdout",
     "output_type": "stream",
     "text": [
      "Ttest_indResult(statistic=0.7702079609817304, pvalue=0.44119474037745077)\n"
     ]
    }
   ],
   "source": [
    "no = df.loc[df.ReAdmis == 0, 'Soft_drink']\n",
    "yes = df.loc[df.ReAdmis == 1, 'Soft_drink']\n",
    "print(ttest_ind(yes, no))"
   ]
  },
  {
   "cell_type": "code",
   "execution_count": 8,
   "metadata": {},
   "outputs": [
    {
     "name": "stdout",
     "output_type": "stream",
     "text": [
      "Ttest_indResult(statistic=0.2269832564540297, pvalue=0.8204414025290936)\n"
     ]
    }
   ],
   "source": [
    "no = df.loc[df.ReAdmis == 0, 'HighBlood']\n",
    "yes = df.loc[df.ReAdmis == 1, 'HighBlood']\n",
    "print(ttest_ind(yes, no))"
   ]
  },
  {
   "cell_type": "code",
   "execution_count": 9,
   "metadata": {},
   "outputs": [
    {
     "name": "stdout",
     "output_type": "stream",
     "text": [
      "Ttest_indResult(statistic=0.09183624544072722, pvalue=0.9268299859229808)\n"
     ]
    }
   ],
   "source": [
    "no = df.loc[df.ReAdmis == 0, 'Stroke']\n",
    "yes = df.loc[df.ReAdmis == 1, 'Stroke']\n",
    "print(ttest_ind(yes, no))"
   ]
  },
  {
   "cell_type": "code",
   "execution_count": 10,
   "metadata": {},
   "outputs": [
    {
     "name": "stdout",
     "output_type": "stream",
     "text": [
      "Ttest_indResult(statistic=-0.3235800077196824, pvalue=0.7462627937148045)\n"
     ]
    }
   ],
   "source": [
    "no = df.loc[df.ReAdmis == 0, 'Complication_risk']\n",
    "yes = df.loc[df.ReAdmis == 1, 'Complication_risk']\n",
    "print(ttest_ind(yes, no))"
   ]
  },
  {
   "cell_type": "code",
   "execution_count": 11,
   "metadata": {},
   "outputs": [
    {
     "name": "stdout",
     "output_type": "stream",
     "text": [
      "Ttest_indResult(statistic=-0.8585460326621027, pvalue=0.3906116053260973)\n"
     ]
    }
   ],
   "source": [
    "no = df.loc[df.ReAdmis == 0, 'Overweight']\n",
    "yes = df.loc[df.ReAdmis == 1, 'Overweight']\n",
    "print(ttest_ind(yes, no))"
   ]
  },
  {
   "cell_type": "code",
   "execution_count": 12,
   "metadata": {},
   "outputs": [
    {
     "name": "stdout",
     "output_type": "stream",
     "text": [
      "Ttest_indResult(statistic=0.7662495189286184, pvalue=0.4435459393487906)\n"
     ]
    }
   ],
   "source": [
    "no = df.loc[df.ReAdmis == 0, 'Arthritis']\n",
    "yes = df.loc[df.ReAdmis == 1, 'Arthritis']\n",
    "print(ttest_ind(yes, no))"
   ]
  },
  {
   "cell_type": "code",
   "execution_count": 13,
   "metadata": {},
   "outputs": [
    {
     "name": "stdout",
     "output_type": "stream",
     "text": [
      "Ttest_indResult(statistic=-0.30578382667737786, pvalue=0.759775609830762)\n"
     ]
    }
   ],
   "source": [
    "no = df.loc[df.ReAdmis == 0, 'Diabetes']\n",
    "yes = df.loc[df.ReAdmis == 1, 'Diabetes']\n",
    "print(ttest_ind(yes, no))"
   ]
  },
  {
   "cell_type": "code",
   "execution_count": 14,
   "metadata": {},
   "outputs": [
    {
     "name": "stdout",
     "output_type": "stream",
     "text": [
      "Ttest_indResult(statistic=0.43065173267403384, pvalue=0.6667309028596506)\n"
     ]
    }
   ],
   "source": [
    "no = df.loc[df.ReAdmis == 0, 'Hyperlipidemia']\n",
    "yes = df.loc[df.ReAdmis == 1, 'Hyperlipidemia']\n",
    "print(ttest_ind(yes, no))"
   ]
  },
  {
   "cell_type": "code",
   "execution_count": 15,
   "metadata": {},
   "outputs": [
    {
     "name": "stdout",
     "output_type": "stream",
     "text": [
      "Ttest_indResult(statistic=1.3312637951797008, pvalue=0.18313258038979546)\n"
     ]
    }
   ],
   "source": [
    "no = df.loc[df.ReAdmis == 0, 'BackPain']\n",
    "yes = df.loc[df.ReAdmis == 1, 'BackPain']\n",
    "print(ttest_ind(yes, no))"
   ]
  },
  {
   "cell_type": "code",
   "execution_count": 16,
   "metadata": {},
   "outputs": [
    {
     "name": "stdout",
     "output_type": "stream",
     "text": [
      "Ttest_indResult(statistic=0.2406030585146465, pvalue=0.8098677127030948)\n"
     ]
    }
   ],
   "source": [
    "no = df.loc[df.ReAdmis == 0, 'Anxiety']\n",
    "yes = df.loc[df.ReAdmis == 1, 'Anxiety']\n",
    "print(ttest_ind(yes, no))"
   ]
  },
  {
   "cell_type": "code",
   "execution_count": 17,
   "metadata": {},
   "outputs": [
    {
     "name": "stdout",
     "output_type": "stream",
     "text": [
      "Ttest_indResult(statistic=-0.4650254044328137, pvalue=0.6419233914988637)\n"
     ]
    }
   ],
   "source": [
    "no = df.loc[df.ReAdmis == 0, 'Allergic_rhinitis']\n",
    "yes = df.loc[df.ReAdmis == 1, 'Allergic_rhinitis']\n",
    "print(ttest_ind(yes, no))"
   ]
  },
  {
   "cell_type": "code",
   "execution_count": 18,
   "metadata": {},
   "outputs": [
    {
     "name": "stdout",
     "output_type": "stream",
     "text": [
      "Ttest_indResult(statistic=0.5421370630224063, pvalue=0.5877361703722761)\n"
     ]
    }
   ],
   "source": [
    "no = df.loc[df.ReAdmis == 0, 'Reflux_esophagitis']\n",
    "yes = df.loc[df.ReAdmis == 1, 'Reflux_esophagitis']\n",
    "print(ttest_ind(yes, no))"
   ]
  },
  {
   "cell_type": "code",
   "execution_count": 19,
   "metadata": {},
   "outputs": [
    {
     "name": "stdout",
     "output_type": "stream",
     "text": [
      "Ttest_indResult(statistic=-1.7133594622422783, pvalue=0.08667742967931452)\n"
     ]
    }
   ],
   "source": [
    "no = df.loc[df.ReAdmis == 0, 'Asthma']\n",
    "yes = df.loc[df.ReAdmis == 1, 'Asthma']\n",
    "print(ttest_ind(yes, no))"
   ]
  },
  {
   "cell_type": "code",
   "execution_count": 20,
   "metadata": {},
   "outputs": [
    {
     "name": "stdout",
     "output_type": "stream",
     "text": [
      "Ttest_indResult(statistic=1.5810818576156604, pvalue=0.11389095473187195)\n"
     ]
    }
   ],
   "source": [
    "no = df.loc[df.ReAdmis == 0, 'Age']\n",
    "yes = df.loc[df.ReAdmis == 1, 'Age']\n",
    "print(ttest_ind(yes, no))"
   ]
  },
  {
   "cell_type": "code",
   "execution_count": 21,
   "metadata": {},
   "outputs": [
    {
     "name": "stdout",
     "output_type": "stream",
     "text": [
      "Ttest_indResult(statistic=0.40822135318600616, pvalue=0.683119914739662)\n"
     ]
    }
   ],
   "source": [
    "no = df.loc[df.ReAdmis == 0, 'VitD_levels']\n",
    "yes = df.loc[df.ReAdmis == 1, 'VitD_levels']\n",
    "print(ttest_ind(yes, no))"
   ]
  },
  {
   "cell_type": "code",
   "execution_count": 22,
   "metadata": {},
   "outputs": [
    {
     "name": "stdout",
     "output_type": "stream",
     "text": [
      "Ttest_indResult(statistic=0.02456618236831195, pvalue=0.980401483979056)\n"
     ]
    }
   ],
   "source": [
    "no = df.loc[df.ReAdmis == 0, 'Doc_visits']\n",
    "yes = df.loc[df.ReAdmis == 1, 'Doc_visits']\n",
    "print(ttest_ind(yes, no))"
   ]
  },
  {
   "cell_type": "code",
   "execution_count": 23,
   "metadata": {},
   "outputs": [
    {
     "name": "stdout",
     "output_type": "stream",
     "text": [
      "Ttest_indResult(statistic=161.9324105776643, pvalue=0.0)\n"
     ]
    }
   ],
   "source": [
    "no = df.loc[df.ReAdmis == 0, 'Initial_days']\n",
    "yes = df.loc[df.ReAdmis == 1, 'Initial_days']\n",
    "print(ttest_ind(yes, no))"
   ]
  },
  {
   "cell_type": "code",
   "execution_count": 33,
   "metadata": {},
   "outputs": [],
   "source": [
    "df['BackPain'].replace((1, 0),('Yes', 'No'), inplace = True)\n",
    "df['Overweight'].replace((1, 0),('Yes', 'No'), inplace = True)"
   ]
  },
  {
   "cell_type": "code",
   "execution_count": 34,
   "metadata": {},
   "outputs": [
    {
     "data": {
      "text/plain": [
       "<AxesSubplot:xlabel='BackPain'>"
      ]
     },
     "execution_count": 34,
     "metadata": {},
     "output_type": "execute_result"
    },
    {
     "data": {
      "image/png": "[encoded data removed]",
      "text/plain": [
       "<Figure size 432x288 with 1 Axes>"
      ]
     },
     "metadata": {
      "needs_background": "light"
     },
     "output_type": "display_data"
    }
   ],
   "source": [
    "tbl = pd.pivot_table(df.groupby(['BackPain']).size().reset_index(), values = 0, index = 'BackPain', columns = ['BackPain'], aggfunc = np.sum)\n",
    "tbl.plot(kind = 'bar', stacked = True)"
   ]
  },
  {
   "cell_type": "code",
   "execution_count": 35,
   "metadata": {},
   "outputs": [
    {
     "data": {
      "text/plain": [
       "<AxesSubplot:xlabel='Overweight'>"
      ]
     },
     "execution_count": 35,
     "metadata": {},
     "output_type": "execute_result"
    },
    {
     "data": {
      "image/png": "[encoded data removed]",
      "text/plain": [
       "<Figure size 432x288 with 1 Axes>"
      ]
     },
     "metadata": {
      "needs_background": "light"
     },
     "output_type": "display_data"
    }
   ],
   "source": [
    "tbl = pd.pivot_table(df.groupby(['Overweight']).size().reset_index(), values = 0, index = 'Overweight', columns = ['Overweight'], aggfunc = np.sum)\n",
    "tbl.plot(kind = 'bar', stacked = True)"
   ]
  },
  {
   "cell_type": "code",
   "execution_count": 36,
   "metadata": {},
   "outputs": [
    {
     "data": {
      "text/plain": [
       "array([[<AxesSubplot:title={'center':'Age'}>]], dtype=object)"
      ]
     },
     "execution_count": 36,
     "metadata": {},
     "output_type": "execute_result"
    },
    {
     "data": {
      "image/png": "[encoded data removed]",
      "text/plain": [
       "<Figure size 432x288 with 1 Axes>"
      ]
     },
     "metadata": {
      "needs_background": "light"
     },
     "output_type": "display_data"
    },
    {
     "data": {
      "image/png": "[encoded data removed]",
      "text/plain": [
       "<Figure size 432x288 with 1 Axes>"
      ]
     },
     "metadata": {
      "needs_background": "light"
     },
     "output_type": "display_data"
    }
   ],
   "source": [
    "df.hist('Initial_days', bins = 50)\n",
    "df.hist('Age', bins = 50)"
   ]
  },
  {
   "cell_type": "code",
   "execution_count": 39,
   "metadata": {},
   "outputs": [],
   "source": [
    "df['ReAdmis'].replace((1, 0),('Yes', 'No'), inplace = True)\n",
    "df['Asthma'].replace((1, 0),('Yes', 'No'), inplace = True)"
   ]
  },
  {
   "cell_type": "code",
   "execution_count": 38,
   "metadata": {},
   "outputs": [
    {
     "data": {
      "text/plain": [
       "<AxesSubplot:xlabel='ReAdmis'>"
      ]
     },
     "execution_count": 38,
     "metadata": {},
     "output_type": "execute_result"
    },
    {
     "data": {
      "image/png": "[encoded data removed]",
      "text/plain": [
       "<Figure size 432x288 with 1 Axes>"
      ]
     },
     "metadata": {
      "needs_background": "light"
     },
     "output_type": "display_data"
    }
   ],
   "source": [
    "tbl = pd.pivot_table(df.groupby(['ReAdmis','Initial_admin']).size().reset_index(), values = 0, index = 'ReAdmis', columns = ['Initial_admin'], aggfunc = np.sum)\n",
    "tbl.plot(kind = 'bar', stacked = True)"
   ]
  },
  {
   "cell_type": "code",
   "execution_count": 40,
   "metadata": {},
   "outputs": [
    {
     "data": {
      "text/plain": [
       "<AxesSubplot:xlabel='ReAdmis'>"
      ]
     },
     "execution_count": 40,
     "metadata": {},
     "output_type": "execute_result"
    },
    {
     "data": {
      "image/png": "[encoded data removed]",
      "text/plain": [
       "<Figure size 432x288 with 1 Axes>"
      ]
     },
     "metadata": {
      "needs_background": "light"
     },
     "output_type": "display_data"
    }
   ],
   "source": [
    "tbl = pd.pivot_table(df.groupby(['ReAdmis','Asthma']).size().reset_index(), values = 0, index = 'ReAdmis', columns = ['Asthma'], aggfunc = np.sum)\n",
    "tbl.plot(kind = 'bar', stacked = True)"
   ]
  },
  {
   "cell_type": "code",
   "execution_count": 41,
   "metadata": {},
   "outputs": [
    {
     "data": {
      "text/plain": [
       "<seaborn.axisgrid.FacetGrid at 0x1a03b250280>"
      ]
     },
     "execution_count": 41,
     "metadata": {},
     "output_type": "execute_result"
    },
    {
     "data": {
      "image/png": "[encoded data removed]",
      "text/plain": [
       "<Figure size 360x360 with 1 Axes>"
      ]
     },
     "metadata": {
      "needs_background": "light"
     },
     "output_type": "display_data"
    }
   ],
   "source": [
    "sns.catplot(x = \"Doc_visits\", y = \"Initial_days\", data = df)"
   ]
  },
  {
   "cell_type": "code",
   "execution_count": 42,
   "metadata": {},
   "outputs": [
    {
     "data": {
      "text/plain": [
       "<seaborn.axisgrid.FacetGrid at 0x1a03bce96a0>"
      ]
     },
     "execution_count": 42,
     "metadata": {},
     "output_type": "execute_result"
    },
    {
     "data": {
      "image/png": "[encoded data removed]",
      "text/plain": [
       "<Figure size 360x360 with 1 Axes>"
      ]
     },
     "metadata": {
      "needs_background": "light"
     },
     "output_type": "display_data"
    }
   ],
   "source": [
    "sns.catplot(x = \"Doc_visits\", y = \"Age\", data = df)"
   ]
  }
 ],
 "metadata": {
  "kernelspec": {
   "display_name": "Python 3.9.12 ('base')",
   "language": "python",
   "name": "python3"
  },
  "language_info": {
   "codemirror_mode": {
    "name": "ipython",
    "version": 3
   },
   "file_extension": ".py",
   "mimetype": "text/x-python",
   "name": "python",
   "nbconvert_exporter": "python",
   "pygments_lexer": "ipython3",
   "version": "3.9.12"
  },
  "orig_nbformat": 4,
  "vscode": {
   "interpreter": {
    "hash": "ad2bdc8ecc057115af97d19610ffacc2b4e99fae6737bb82f5d7fb13d2f2c186"
   }
  }
 },
 "nbformat": 4,
 "nbformat_minor": 2
}
